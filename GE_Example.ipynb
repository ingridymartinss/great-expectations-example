{
 "cells": [
  {
   "cell_type": "code",
   "execution_count": 1,
   "id": "07fcac8b-3105-48b3-b73b-87eb79f0c304",
   "metadata": {
    "execution": {
     "iopub.execute_input": "2022-03-16T18:02:50.553398Z",
     "iopub.status.busy": "2022-03-16T18:02:50.552786Z",
     "iopub.status.idle": "2022-03-16T18:03:44.826760Z",
     "shell.execute_reply": "2022-03-16T18:03:44.825863Z",
     "shell.execute_reply.started": "2022-03-16T18:02:50.553358Z"
    },
    "tags": []
   },
   "outputs": [
    {
     "data": {
      "application/vnd.jupyter.widget-view+json": {
       "model_id": "671e810e5a7f48b694643b7b6f2fd218",
       "version_major": 2,
       "version_minor": 0
      },
      "text/plain": [
       "VBox()"
      ]
     },
     "metadata": {},
     "output_type": "display_data"
    },
    {
     "name": "stdout",
     "output_type": "stream",
     "text": [
      "Starting Spark application\n"
     ]
    },
    {
     "data": {
      "text/html": [
       "<table>\n",
       "<tr><th>ID</th><th>YARN Application ID</th><th>Kind</th><th>State</th><th>Spark UI</th><th>Driver log</th><th>Current session?</th></tr><tr><td>0</td><td>application_1647453599178_0002</td><td>pyspark</td><td>idle</td><td><a target=\"_blank\" href=\"http://ip-10-40-4-83.us-west-2.compute.internal:20888/proxy/application_1647453599178_0002/\">Link</a></td><td><a target=\"_blank\" href=\"http://ip-10-40-4-166.us-west-2.compute.internal:8042/node/containerlogs/container_1647453599178_0002_01_000001/livy\">Link</a></td><td>✔</td></tr></table>"
      ],
      "text/plain": [
       "<IPython.core.display.HTML object>"
      ]
     },
     "metadata": {},
     "output_type": "display_data"
    },
    {
     "data": {
      "application/vnd.jupyter.widget-view+json": {
       "model_id": "",
       "version_major": 2,
       "version_minor": 0
      },
      "text/plain": [
       "FloatProgress(value=0.0, bar_style='info', description='Progress:', layout=Layout(height='25px', width='50%'),…"
      ]
     },
     "metadata": {},
     "output_type": "display_data"
    },
    {
     "name": "stdout",
     "output_type": "stream",
     "text": [
      "SparkSession available as 'spark'.\n"
     ]
    },
    {
     "data": {
      "application/vnd.jupyter.widget-view+json": {
       "model_id": "",
       "version_major": 2,
       "version_minor": 0
      },
      "text/plain": [
       "FloatProgress(value=0.0, bar_style='info', description='Progress:', layout=Layout(height='25px', width='50%'),…"
      ]
     },
     "metadata": {},
     "output_type": "display_data"
    }
   ],
   "source": [
    "#Criando um dataframe de exemplo\n",
    "df = sc.parallelize([['00000000000', 'Amanda', 22, True],['11111111111', 'Amanda', 555, True],\n",
    "                     ['22222222222', 'Marcos', 45, False],['33333333333', 'Fernando', 18, False]]).toDF((\"DocumentRegistration\", \"Name\", \"Age\", \"isEnabled\"))"
   ]
  },
  {
   "cell_type": "code",
   "execution_count": 2,
   "id": "a8ef8fa5-e534-4eab-8b57-0cc4fa9b680d",
   "metadata": {
    "execution": {
     "iopub.execute_input": "2022-03-16T18:03:44.829254Z",
     "iopub.status.busy": "2022-03-16T18:03:44.828791Z",
     "iopub.status.idle": "2022-03-16T18:03:50.902078Z",
     "shell.execute_reply": "2022-03-16T18:03:50.886955Z",
     "shell.execute_reply.started": "2022-03-16T18:03:44.829211Z"
    },
    "tags": []
   },
   "outputs": [
    {
     "data": {
      "application/vnd.jupyter.widget-view+json": {
       "model_id": "ef5a23819c3340a4b5d978d851becc58",
       "version_major": 2,
       "version_minor": 0
      },
      "text/plain": [
       "VBox()"
      ]
     },
     "metadata": {},
     "output_type": "display_data"
    },
    {
     "data": {
      "application/vnd.jupyter.widget-view+json": {
       "model_id": "",
       "version_major": 2,
       "version_minor": 0
      },
      "text/plain": [
       "FloatProgress(value=0.0, bar_style='info', description='Progress:', layout=Layout(height='25px', width='50%'),…"
      ]
     },
     "metadata": {},
     "output_type": "display_data"
    },
    {
     "name": "stdout",
     "output_type": "stream",
     "text": [
      "+--------------------+--------+---+---------+\n",
      "|DocumentRegistration|    Name|Age|isEnabled|\n",
      "+--------------------+--------+---+---------+\n",
      "|         00000000000|  Amanda| 22|     true|\n",
      "|         11111111111|  Amanda|555|     true|\n",
      "|         22222222222|  Marcos| 45|    false|\n",
      "|         33333333333|Fernando| 18|    false|\n",
      "+--------------------+--------+---+---------+"
     ]
    }
   ],
   "source": [
    "df.show()"
   ]
  },
  {
   "cell_type": "code",
   "execution_count": 3,
   "id": "4a04ac32-2a1b-48fe-a9b7-c68175ee4a57",
   "metadata": {
    "execution": {
     "iopub.execute_input": "2022-03-16T18:03:50.954817Z",
     "iopub.status.busy": "2022-03-16T18:03:50.946262Z",
     "iopub.status.idle": "2022-03-16T18:03:54.251356Z",
     "shell.execute_reply": "2022-03-16T18:03:54.250586Z",
     "shell.execute_reply.started": "2022-03-16T18:03:50.953677Z"
    },
    "tags": []
   },
   "outputs": [
    {
     "data": {
      "application/vnd.jupyter.widget-view+json": {
       "model_id": "337f6571dc1349f0a16d39fae7730e15",
       "version_major": 2,
       "version_minor": 0
      },
      "text/plain": [
       "VBox()"
      ]
     },
     "metadata": {},
     "output_type": "display_data"
    },
    {
     "data": {
      "application/vnd.jupyter.widget-view+json": {
       "model_id": "",
       "version_major": 2,
       "version_minor": 0
      },
      "text/plain": [
       "FloatProgress(value=0.0, bar_style='info', description='Progress:', layout=Layout(height='25px', width='50%'),…"
      ]
     },
     "metadata": {},
     "output_type": "display_data"
    }
   ],
   "source": [
    "from great_expectations.data_context import BaseDataContext\n",
    "from great_expectations.data_context.types.base import DataContextConfig\n",
    "\n",
    "bucket = \"your-bucket\"\n",
    "prefix_expectations = \"ExpectationsStore/\"\n",
    "prefix_validations = \"ValidationsStore/\"\n",
    "prefix_data_docs = \"DataDocs/\"\n",
    "\n",
    "#Configurando o Data Context\n",
    "project_config = DataContextConfig(\n",
    "    config_version=2,\n",
    "    plugins_directory=None,\n",
    "    config_variables_file_path=None,\n",
    "    datasources={\n",
    "        \"my_spark_datasource\": {\n",
    "            \"data_asset_type\": {\n",
    "                \"class_name\": \"SparkDFDataset\",\n",
    "                \"module_name\": \"great_expectations.dataset\",\n",
    "            },\n",
    "            \"class_name\": \"SparkDFDatasource\",\n",
    "            \"module_name\": \"great_expectations.datasource\",\n",
    "            \"batch_kwargs_generators\": {},\n",
    "        }\n",
    "    },\n",
    "    stores={\n",
    "        \"expectations_S3_store\": {\n",
    "            \"class_name\": \"ExpectationsStore\",\n",
    "            \"store_backend\": {\n",
    "                \"class_name\": \"TupleS3StoreBackend\",\n",
    "                \"bucket\": bucket,\n",
    "                \"prefix\": prefix_expectations,\n",
    "            },\n",
    "        },\n",
    "        \"validations_S3_store\": {\n",
    "            \"class_name\": \"ValidationsStore\",\n",
    "            \"store_backend\": {\n",
    "                \"class_name\": \"TupleS3StoreBackend\",\n",
    "                \"bucket\": bucket,\n",
    "                \"prefix\": prefix_validations,\n",
    "            },\n",
    "        },\n",
    "        \"evaluation_parameter_store\": {\"class_name\": \"EvaluationParameterStore\"},\n",
    "    },\n",
    "    expectations_store_name=\"expectations_S3_store\",\n",
    "    validations_store_name=\"validations_S3_store\",\n",
    "    evaluation_parameter_store_name=\"evaluation_parameter_store\",\n",
    "    data_docs_sites={\n",
    "        \"s3_site\": {\n",
    "            \"class_name\": \"SiteBuilder\",\n",
    "            \"store_backend\": {\n",
    "                \"class_name\": \"TupleS3StoreBackend\",\n",
    "                \"bucket\": bucket,\n",
    "                \"prefix\": prefix_data_docs,\n",
    "            },\n",
    "            \"site_index_builder\": {\n",
    "                \"class_name\": \"DefaultSiteIndexBuilder\",\n",
    "                \"show_cta_footer\": True,\n",
    "                \"validation_results_limit\": 50,\n",
    "            },\n",
    "        }\n",
    "    },\n",
    "    validation_operators={\n",
    "        \"action_list_operator\": {\n",
    "            \"class_name\": \"ActionListValidationOperator\",\n",
    "            \"action_list\": [\n",
    "                {\n",
    "                    \"name\": \"store_validation_result\",\n",
    "                    \"action\": {\"class_name\": \"StoreValidationResultAction\"},\n",
    "                },\n",
    "                {\n",
    "                    \"name\": \"store_evaluation_params\",\n",
    "                    \"action\": {\"class_name\": \"StoreEvaluationParametersAction\"},\n",
    "                },\n",
    "                {\n",
    "                    \"name\": \"update_data_docs\",\n",
    "                    \"action\": {\"class_name\": \"UpdateDataDocsAction\"},\n",
    "                },\n",
    "            ],\n",
    "        }\n",
    "    },\n",
    "    anonymous_usage_statistics={\"enabled\": False},\n",
    ")"
   ]
  },
  {
   "cell_type": "code",
   "execution_count": 4,
   "id": "798c117b-7542-433b-a8a7-51cd5bc526e5",
   "metadata": {
    "execution": {
     "iopub.execute_input": "2022-03-16T18:03:54.253438Z",
     "iopub.status.busy": "2022-03-16T18:03:54.252817Z",
     "iopub.status.idle": "2022-03-16T18:03:55.068782Z",
     "shell.execute_reply": "2022-03-16T18:03:55.065880Z",
     "shell.execute_reply.started": "2022-03-16T18:03:54.253381Z"
    },
    "tags": []
   },
   "outputs": [
    {
     "data": {
      "application/vnd.jupyter.widget-view+json": {
       "model_id": "19a3ad65ad7146da97b736aafd5d8ec9",
       "version_major": 2,
       "version_minor": 0
      },
      "text/plain": [
       "VBox()"
      ]
     },
     "metadata": {},
     "output_type": "display_data"
    },
    {
     "data": {
      "application/vnd.jupyter.widget-view+json": {
       "model_id": "",
       "version_major": 2,
       "version_minor": 0
      },
      "text/plain": [
       "FloatProgress(value=0.0, bar_style='info', description='Progress:', layout=Layout(height='25px', width='50%'),…"
      ]
     },
     "metadata": {},
     "output_type": "display_data"
    }
   ],
   "source": [
    "context = BaseDataContext(project_config=project_config)"
   ]
  },
  {
   "cell_type": "code",
   "execution_count": 5,
   "id": "afbb4506-370f-47a9-a2e1-42faff82daa2",
   "metadata": {
    "execution": {
     "iopub.execute_input": "2022-03-16T18:03:55.071535Z",
     "iopub.status.busy": "2022-03-16T18:03:55.071238Z",
     "iopub.status.idle": "2022-03-16T18:03:55.665080Z",
     "shell.execute_reply": "2022-03-16T18:03:55.664190Z",
     "shell.execute_reply.started": "2022-03-16T18:03:55.071495Z"
    }
   },
   "outputs": [
    {
     "data": {
      "application/vnd.jupyter.widget-view+json": {
       "model_id": "c611d347a9d14725a0bff24024a2d24d",
       "version_major": 2,
       "version_minor": 0
      },
      "text/plain": [
       "VBox()"
      ]
     },
     "metadata": {},
     "output_type": "display_data"
    },
    {
     "data": {
      "application/vnd.jupyter.widget-view+json": {
       "model_id": "",
       "version_major": 2,
       "version_minor": 0
      },
      "text/plain": [
       "FloatProgress(value=0.0, bar_style='info', description='Progress:', layout=Layout(height='25px', width='50%'),…"
      ]
     },
     "metadata": {},
     "output_type": "display_data"
    }
   ],
   "source": [
    "#Associa o contexto criado no passo anterior ao arquivo \"tangerines_example_expectation_suite.json\". Este arquivo deve ser inserido no path de Expectations definido no DataContext\n",
    "\n",
    "expectation_suite_name = 'tangerines_example_expectation_suite'\n",
    "expectation_suite = context.get_expectation_suite(expectation_suite_name)"
   ]
  },
  {
   "cell_type": "code",
   "execution_count": 6,
   "id": "be203911-1d54-4786-b2a6-e87b8dcc6e6a",
   "metadata": {
    "execution": {
     "iopub.execute_input": "2022-03-16T18:03:55.671603Z",
     "iopub.status.busy": "2022-03-16T18:03:55.671313Z",
     "iopub.status.idle": "2022-03-16T18:03:56.380814Z",
     "shell.execute_reply": "2022-03-16T18:03:56.379947Z",
     "shell.execute_reply.started": "2022-03-16T18:03:55.671568Z"
    },
    "tags": []
   },
   "outputs": [
    {
     "data": {
      "application/vnd.jupyter.widget-view+json": {
       "model_id": "1054db8ed5d84c34b1be6981991efa5b",
       "version_major": 2,
       "version_minor": 0
      },
      "text/plain": [
       "VBox()"
      ]
     },
     "metadata": {},
     "output_type": "display_data"
    },
    {
     "data": {
      "application/vnd.jupyter.widget-view+json": {
       "model_id": "",
       "version_major": 2,
       "version_minor": 0
      },
      "text/plain": [
       "FloatProgress(value=0.0, bar_style='info', description='Progress:', layout=Layout(height='25px', width='50%'),…"
      ]
     },
     "metadata": {},
     "output_type": "display_data"
    }
   ],
   "source": [
    "batch_kwargs = {\n",
    "    \"datasource\": \"my_spark_datasource\",\n",
    "    \"dataset\": df\n",
    "}\n",
    "\n",
    "#A função get batch vai associar a expectation com o dataset a ser validado\n",
    "batch = context.get_batch(\n",
    "    batch_kwargs=batch_kwargs,\n",
    "    expectation_suite_name=expectation_suite\n",
    ")"
   ]
  },
  {
   "cell_type": "code",
   "execution_count": 7,
   "id": "a1616250-0650-42e1-9e77-3343a2cc12bd",
   "metadata": {
    "execution": {
     "iopub.execute_input": "2022-03-16T18:03:56.389797Z",
     "iopub.status.busy": "2022-03-16T18:03:56.389347Z",
     "iopub.status.idle": "2022-03-16T18:04:13.360924Z",
     "shell.execute_reply": "2022-03-16T18:04:13.359934Z",
     "shell.execute_reply.started": "2022-03-16T18:03:56.389741Z"
    },
    "tags": []
   },
   "outputs": [
    {
     "data": {
      "application/vnd.jupyter.widget-view+json": {
       "model_id": "2a7b8f522ac342ab943231daf4f12c87",
       "version_major": 2,
       "version_minor": 0
      },
      "text/plain": [
       "VBox()"
      ]
     },
     "metadata": {},
     "output_type": "display_data"
    },
    {
     "data": {
      "application/vnd.jupyter.widget-view+json": {
       "model_id": "",
       "version_major": 2,
       "version_minor": 0
      },
      "text/plain": [
       "FloatProgress(value=0.0, bar_style='info', description='Progress:', layout=Layout(height='25px', width='50%'),…"
      ]
     },
     "metadata": {},
     "output_type": "display_data"
    }
   ],
   "source": [
    "#Ao executar essa linha, tanto o json quanto o data docs relacionados a validação do dataframe serão criados\n",
    "results = context.run_validation_operator(\"action_list_operator\", assets_to_validate=[batch])"
   ]
  }
 ],
 "metadata": {
  "kernelspec": {
   "display_name": "PySpark",
   "language": "",
   "name": "pysparkkernel"
  },
  "language_info": {
   "codemirror_mode": {
    "name": "python",
    "version": 2
   },
   "mimetype": "text/x-python",
   "name": "pyspark",
   "pygments_lexer": "python2"
  }
 },
 "nbformat": 4,
 "nbformat_minor": 5
}
